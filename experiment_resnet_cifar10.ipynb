{
 "cells": [
  {
   "cell_type": "code",
   "execution_count": 1,
   "metadata": {
    "ExecuteTime": {
     "end_time": "2016-09-01T10:27:04.521812",
     "start_time": "2016-09-01T10:27:04.369951"
    }
   },
   "outputs": [],
   "source": [
    "# %load_ext autoreload\n",
    "# %autoreload 2\n",
    "%matplotlib inline"
   ]
  },
  {
   "cell_type": "code",
   "execution_count": 2,
   "metadata": {
    "ExecuteTime": {
     "end_time": "2016-09-01T10:27:05.106221",
     "start_time": "2016-09-01T10:27:04.875186"
    }
   },
   "outputs": [],
   "source": [
    "from branchynet.net import BranchyNet\n",
    "from branchynet.links import *\n",
    "import chainer.functions as F\n",
    "import chainer.links as L\n",
    "from branchynet import utils, visualize\n",
    "from chainer import cuda"
   ]
  },
  {
   "cell_type": "markdown",
   "metadata": {},
   "source": [
    "Define Network"
   ]
  },
  {
   "cell_type": "code",
   "execution_count": 3,
   "metadata": {
    "ExecuteTime": {
     "end_time": "2016-09-01T10:27:09.124057",
     "start_time": "2016-09-01T10:27:07.589721"
    }
   },
   "outputs": [],
   "source": [
    "from networks import resnet_cifar10\n",
    "\n",
    "branchyNet = resnet_cifar10.get_network()\n",
    "if cuda.available:\n",
    "    branchyNet.to_gpu()\n",
    "branchyNet.training()"
   ]
  },
  {
   "cell_type": "markdown",
   "metadata": {},
   "source": [
    "Import Data"
   ]
  },
  {
   "cell_type": "code",
   "execution_count": 10,
   "metadata": {
    "ExecuteTime": {
     "end_time": "2016-09-01T10:27:15.576928",
     "start_time": "2016-09-01T10:27:14.859844"
    }
   },
   "outputs": [
    {
     "name": "stdout",
     "output_type": "stream",
     "text": [
      "((50000, 3, 32, 32), (50000,), (10000, 3, 32, 32), (10000,))\n",
      "((600, 3, 32, 32), (600,), (100, 3, 32, 32), (100,))\n"
     ]
    }
   ],
   "source": [
    "from datasets import pcifar10\n",
    "\n",
    "x_train, y_train, x_test, y_test = pcifar10.get_data()\n",
    "\n",
    "print(x_train.shape, y_train.shape, x_test.shape, y_test.shape)\n",
    "training_size=100\n",
    "x_train, y_train, x_test, y_test = x_train[:training_size*6], y_train[:training_size*6], x_test[:training_size], y_test[:training_size]\n",
    "print(x_train.shape, y_train.shape, x_test.shape, y_test.shape)\n",
    "\n",
    "#training size = 500, each epoch we need at least 2 minutes.\n",
    "#this app need 30 cores and at least 20GB memory for UTSA server when training size is 500 ."
   ]
  },
  {
   "cell_type": "markdown",
   "metadata": {},
   "source": [
    "Settings"
   ]
  },
  {
   "cell_type": "code",
   "execution_count": 11,
   "metadata": {
    "ExecuteTime": {
     "end_time": "2016-08-30T17:04:36.762787",
     "start_time": "2016-08-30T17:04:36.743275"
    }
   },
   "outputs": [],
   "source": [
    "TRAIN_BATCHSIZE = 512\n",
    "TEST_BATCHSIZE = 1\n",
    "TRAIN_NUM_EPOCHS = 50"
   ]
  },
  {
   "cell_type": "markdown",
   "metadata": {},
   "source": [
    "Train Main Network"
   ]
  },
  {
   "cell_type": "code",
   "execution_count": null,
   "metadata": {
    "ExecuteTime": {
     "end_time": "2016-08-30T17:06:01.258431",
     "start_time": "2016-08-30T17:04:36.830718"
    }
   },
   "outputs": [
    {
     "name": "stdout",
     "output_type": "stream",
     "text": [
      "1620772176.4\n",
      "[ 95  42 157 390 291  41 444 166 179 420 173 152 451 161 307 136  21 401\n",
      " 406 490 245  58 564  93 447 153 121 482 428 120 566 268 233 599 478 208\n",
      "  65 195 202 203 322 422  13 539 530 568 597  73 147 164 105 210  36 312\n",
      " 135   2 272 101 395 575 293  18 503 109 411 114  23 339  89 143 187 549\n",
      " 104 188 377 523 225 330 288  49 418 536  48 592 125 496 306 477 354 459\n",
      "  61 235 223 224 113 577 495 298 446  39 511 219 148 280 382   5 594 463\n",
      " 230 424 481 129 167 441  69 456 176 253 378 269 256 400 242 550 487 543\n",
      " 480 134 149  96 207 177  24 309 254 467 485 562 468 578 174 357 526 538\n",
      " 217  29 251 559 342 458 414 416   3 227 368 442  53 529 119 353 409 457\n",
      " 131 367 365 376 370 397  76 586 289 282 519 103 525   6 517 151 252  27\n",
      " 589  77 527 281 165 193 385 345 473 155 160 580 356  99  87 133 209 548\n",
      "  92 123 501 335 383 427 228 182 321 531 425 279 453 563 199 423 260  88\n",
      " 433 100 436 204 569 212 386 582 380 560 352 494  78 311 389 249 591 264\n",
      "  51 261 185 117 590 497 130 226 229 206 150 301 299 128 412 514 184 429\n",
      "  25 576 440  80 137  30  16 344 108 384 419 292  71 102 541 115 324 180\n",
      " 198 200 332   7  74 303 489 218 316 362 509 216 285 239  35 375 572 415\n",
      " 222 498 244   4 363 394 334 234 211 237 573  72 438 432 355 192 266  33\n",
      " 262  91  57 598 196   0 460 257 258 417  14 524 595 439 408 585 110 474\n",
      " 267 484 263 290 471 469 360 387  98   9 255 520 295 488 379 410 443 479\n",
      " 557  17 294 336 388 373 472 246 537 319 500 327 596 124 286 337 317 241\n",
      "  62 518 346 326 449 139 445 163  40 393 201 348 274 381 510 505 158 243\n",
      " 546 455 515 111 464 528 313 593 399 175 491 156 300 178 535  34 138  19\n",
      " 259  60 565 340 284 361  94 116 364 434 169 232 351 275 154 328 213 448\n",
      " 215 513  66 314 265 542  43 127  22 587 581 483 450 197 561 358 297 547\n",
      "  44 318  97 159 570 504 507 331 502 588  85 579 140  70 343 305 141 107\n",
      " 145 374 421 349  67 126 533 221 366 466 454 493 553  15 122  79 396 470\n",
      " 191 132  20  56 205 369 405  75 584 452 271 398 359 371 168 545 499 190\n",
      " 329  38 516 341  90 181 273 506   1 118 296 238  45  59 302  32  64  82\n",
      " 435 146 320 112 250 350 236  11 554 551 462 437 567 276 532 475 431  68\n",
      " 162 544 183 308 270  52 402 461 333   8 277 534 106  63 248  55 522 278\n",
      " 144  47 220 287 240 403 486 214 247  31 304 315  10 540 231  81 372 555\n",
      "  26 404  84 392 512 465 142  83 310 556  37 391 323  28 413 194 189 283\n",
      " 558 430 492  50  12 521  86 338  54 407 508 172 583 170  46 426 574 186\n",
      " 347 325 476 571 171 552]\n"
     ]
    }
   ],
   "source": [
    "main_loss, main_acc, main_time = utils.train(branchyNet, x_train, y_train, main=True, batchsize=TRAIN_BATCHSIZE,\n",
    "                                             num_epoch=TRAIN_NUM_EPOCHS)"
   ]
  },
  {
   "cell_type": "markdown",
   "metadata": {},
   "source": [
    "Train BranchyNet"
   ]
  },
  {
   "cell_type": "code",
   "execution_count": null,
   "metadata": {
    "ExecuteTime": {
     "end_time": "2016-08-30T17:11:06.345265",
     "start_time": "2016-08-30T17:06:01.268848"
    },
    "scrolled": false
   },
   "outputs": [],
   "source": [
    "TRAIN_NUM_EPOCHS = 50\n",
    "branch_loss, branch_acc, branch_time = utils.train(branchyNet, x_train, y_train, batchsize=TRAIN_BATCHSIZE,\n",
    "                                                   num_epoch=TRAIN_NUM_EPOCHS)\n",
    "\n",
    "#set network to inference mode\n",
    "branchyNet.testing()"
   ]
  },
  {
   "cell_type": "markdown",
   "metadata": {},
   "source": [
    "Visualizing Network Training"
   ]
  },
  {
   "cell_type": "code",
   "execution_count": null,
   "metadata": {
    "ExecuteTime": {
     "end_time": "2016-08-30T17:11:06.835335",
     "start_time": "2016-08-30T17:11:06.348432"
    }
   },
   "outputs": [],
   "source": [
    "visualize.plot_layers(main_loss, xlabel='Epochs', ylabel='Training Loss')\n",
    "visualize.plot_layers(main_acc, xlabel='Epochs', ylabel='Training Accuracy')"
   ]
  },
  {
   "cell_type": "code",
   "execution_count": null,
   "metadata": {
    "ExecuteTime": {
     "end_time": "2016-08-30T17:11:07.341112",
     "start_time": "2016-08-30T17:11:06.837397"
    }
   },
   "outputs": [],
   "source": [
    "visualize.plot_layers(zip(*branch_loss), xlabel='Epochs', ylabel='Training Loss')\n",
    "visualize.plot_layers(zip(*branch_acc), xlabel='Epochs', ylabel='Training Accuracy')"
   ]
  },
  {
   "cell_type": "markdown",
   "metadata": {},
   "source": [
    "Run test suite and visualize"
   ]
  },
  {
   "cell_type": "code",
   "execution_count": null,
   "metadata": {
    "ExecuteTime": {
     "end_time": "2016-08-30T17:12:25.444980",
     "start_time": "2016-08-30T17:11:24.248544"
    }
   },
   "outputs": [],
   "source": [
    "#set network to inference mode\n",
    "branchyNet.testing()\n",
    "branchyNet.verbose = False\n",
    "if cuda.available:\n",
    "    branchyNet.to_gpu()\n",
    "g_baseacc, g_basediff, _, _ = utils.test(branchyNet,x_test,y_test,main=True,batchsize=TEST_BATCHSIZE)\n",
    "g_basediff = (g_basediff / float(len(y_test))) * 1000.\n",
    "\n",
    "#branchyNet.to_cpu()\n",
    "c_baseacc, c_basediff, _, _ = utils.test(branchyNet,x_test,y_test,main=True,batchsize=TEST_BATCHSIZE)\n",
    "c_basediff = (c_basediff / float(len(y_test))) * 1000."
   ]
  },
  {
   "cell_type": "code",
   "execution_count": null,
   "metadata": {
    "ExecuteTime": {
     "end_time": "2016-08-30T17:46:39.620682",
     "start_time": "2016-08-30T17:46:39.589059"
    }
   },
   "outputs": [],
   "source": [
    "# Specify thresholds\n",
    "thresholds = [0.0001, 0.0005, 0.001, 0.005, 0.01, 0.025, 0.05, 0.075, 0.1, 0.25, 0.5, 0.75, 1., 2., 3., 5., 10.]"
   ]
  },
  {
   "cell_type": "code",
   "execution_count": null,
   "metadata": {
    "ExecuteTime": {
     "end_time": "2016-08-30T17:33:15.836122",
     "start_time": "2016-08-30T17:21:55.266512"
    }
   },
   "outputs": [],
   "source": [
    "#GPU\n",
    "if cuda.available:\n",
    "    branchyNet.to_gpu()\n",
    "g_ts, g_accs, g_diffs, g_exits = utils.screen_branchy(branchyNet, x_test, y_test, thresholds,\n",
    "                                                    batchsize=TEST_BATCHSIZE, verbose=True)\n",
    "\n",
    "\n",
    "#convert to ms\n",
    "g_diffs *= 1000."
   ]
  },
  {
   "cell_type": "code",
   "execution_count": null,
   "metadata": {},
   "outputs": [],
   "source": [
    "visualize.plot_line_tradeoff(g_accs, g_diffs, g_ts, g_exits, g_baseacc, g_basediff, all_samples=False, inc_amt=-0.0001000,\n",
    "                             our_label='BranchyResNet', orig_label='ResNet', xlabel='Runtime (ms)', \n",
    "                             title='ResNet GPU', output_path='_figs/resnet_gpu.pdf')"
   ]
  },
  {
   "cell_type": "code",
   "execution_count": null,
   "metadata": {
    "ExecuteTime": {
     "start_time": "2016-08-30T17:46:57.326Z"
    }
   },
   "outputs": [],
   "source": [
    "#CPU\n",
    "branchyNet.to_cpu()\n",
    "c_ts, c_accs, c_diffs, c_exits  = utils.screen_branchy(branchyNet, x_test, y_test, thresholds,\n",
    "                                                     batchsize=TEST_BATCHSIZE, verbose=True)\n",
    "\n",
    "#convert to ms\n",
    "c_diffs *= 1000."
   ]
  },
  {
   "cell_type": "code",
   "execution_count": null,
   "metadata": {
    "ExecuteTime": {
     "end_time": "2016-08-30T17:35:52.802997",
     "start_time": "2016-08-30T17:35:52.193698"
    }
   },
   "outputs": [],
   "source": [
    "visualize.plot_line_tradeoff(c_accs, c_diffs, c_ts, c_exits, c_baseacc, c_basediff, all_samples=False, inc_amt=-0.0001000,\n",
    "                             our_label='BranchyResNet', orig_label='ResNet', xlabel='Runtime (ms)',\n",
    "                             title='ResNet CPU', output_path='_figs/resnet_cpu.pdf')"
   ]
  },
  {
   "cell_type": "code",
   "execution_count": null,
   "metadata": {
    "ExecuteTime": {
     "end_time": "2016-08-30T17:11:07.655674",
     "start_time": "2016-08-30T17:04:45.607Z"
    }
   },
   "outputs": [],
   "source": [
    "print 'CPU Results:'\n",
    "utils.branchy_table_results('ResNet', c_baseacc, c_basediff, c_accs, c_diffs, c_exits, c_ts)\n",
    "\n",
    "print '\\n\\n'\n",
    "\n",
    "print 'GPU Results:'\n",
    "utils.branchy_table_results('ResNet', g_baseacc, g_basediff, g_accs, c_diffs, g_exits, g_ts)"
   ]
  },
  {
   "cell_type": "markdown",
   "metadata": {},
   "source": [
    "Save model/data"
   ]
  },
  {
   "cell_type": "code",
   "execution_count": null,
   "metadata": {},
   "outputs": [],
   "source": [
    "import dill\n",
    "branchyNet.to_cpu()\n",
    "with open(\"_models/resnet_cifar10.bn\", \"wb\") as f:\n",
    "    dill.dump(branchyNet, f)\n",
    "with open(\"_models/resnet_cifar10_gpu_results.pkl\", \"wb\") as f:\n",
    "    dill.dump({'accs': g_accs, 'rt': g_diffs, 'exits': g_exits, 'ts': g_ts, 'baseacc': g_baseacc, 'basediff': g_basediff}, f)\n",
    "with open(\"_models/resnet_cifar10_cpu_results.pkl\", \"wb\") as f:\n",
    "    dill.dump({'accs': c_accs, 'rt': c_diffs, 'exits': c_exits, 'ts': c_ts, 'baseacc': c_baseacc, 'basediff': c_basediff}, f)"
   ]
  }
 ],
 "metadata": {
  "anaconda-cloud": {},
  "kernelspec": {
   "display_name": "Python 2",
   "language": "python",
   "name": "python2"
  },
  "language_info": {
   "codemirror_mode": {
    "name": "ipython",
    "version": 2
   },
   "file_extension": ".py",
   "mimetype": "text/x-python",
   "name": "python",
   "nbconvert_exporter": "python",
   "pygments_lexer": "ipython2",
   "version": "2.7.17"
  }
 },
 "nbformat": 4,
 "nbformat_minor": 1
}
