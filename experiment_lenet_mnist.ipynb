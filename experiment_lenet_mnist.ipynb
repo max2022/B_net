{
 "cells": [
  {
   "cell_type": "code",
   "execution_count": 1,
   "metadata": {
    "ExecuteTime": {
     "end_time": "2016-08-30T17:04:03.615918",
     "start_time": "2016-08-30T17:04:03.584784"
    }
   },
   "outputs": [],
   "source": [
    "# %load_ext autoreload\n",
    "# %autoreload 2\n",
    "%matplotlib inline"
   ]
  },
  {
   "cell_type": "code",
   "execution_count": 2,
   "metadata": {
    "ExecuteTime": {
     "end_time": "2016-08-30T17:04:33.461371",
     "start_time": "2016-08-30T17:04:32.937702"
    }
   },
   "outputs": [],
   "source": [
    "from branchynet.net import BranchyNet\n",
    "from branchynet.links import *\n",
    "import chainer.functions as F\n",
    "import chainer.links as L\n",
    "from branchynet import utils, visualize\n",
    "from chainer import cuda"
   ]
  },
  {
   "cell_type": "markdown",
   "metadata": {},
   "source": [
    "Define Network"
   ]
  },
  {
   "cell_type": "code",
   "execution_count": 3,
   "metadata": {
    "ExecuteTime": {
     "end_time": "2016-08-30T17:04:34.233898",
     "start_time": "2016-08-30T17:04:33.821360"
    }
   },
   "outputs": [],
   "source": [
    "from networks import lenet_mnist\n",
    "\n",
    "branchyNet = lenet_mnist.get_network()\n",
    "if cuda.available:\n",
    "    branchyNet.to_gpu()\n",
    "branchyNet.training()"
   ]
  },
  {
   "cell_type": "markdown",
   "metadata": {},
   "source": [
    "Import Data"
   ]
  },
  {
   "cell_type": "code",
   "execution_count": 4,
   "metadata": {
    "ExecuteTime": {
     "end_time": "2016-08-30T17:04:36.742391",
     "start_time": "2016-08-30T17:04:34.847265"
    }
   },
   "outputs": [
    {
     "name": "stderr",
     "output_type": "stream",
     "text": [
      "/home/peng/cooperating/venv/lib/python2.7/site-packages/sklearn/utils/deprecation.py:77: DeprecationWarning: Function fetch_mldata is deprecated; fetch_mldata was deprecated in version 0.20 and will be removed in version 0.22\n",
      "  warnings.warn(msg, category=DeprecationWarning)\n",
      "/home/peng/cooperating/venv/lib/python2.7/site-packages/sklearn/utils/deprecation.py:77: DeprecationWarning: Function mldata_filename is deprecated; mldata_filename was deprecated in version 0.20 and will be removed in version 0.22\n",
      "  warnings.warn(msg, category=DeprecationWarning)\n"
     ]
    },
    {
     "name": "stdout",
     "output_type": "stream",
     "text": [
      "((60000, 1, 28, 28), (60000,), (10000, 1, 28, 28), (10000,))\n",
      "((3000, 1, 28, 28), (3000,), (500, 1, 28, 28), (500,))\n"
     ]
    }
   ],
   "source": [
    "from datasets import mnist\n",
    "training_size=500\n",
    "x_train, y_train, x_test, y_test = mnist.get_data()\n",
    "print(x_train.shape, y_train.shape, x_test.shape, y_test.shape)\n",
    "x_train, y_train, x_test, y_test = x_train[:training_size*6], y_train[:training_size*6], x_test[:training_size], y_test[:training_size]\n",
    "print(x_train.shape, y_train.shape, x_test.shape, y_test.shape)\n",
    "\n",
    "\n",
    "#x_test = x_train + x_test\n",
    "#y_test = y_train + y_test\n",
    "#training size = 6000, each epoch we need to 12 seconds.\n",
    "#this app need 28 cores and at least 3GB memory for UTSA server when training size is 6000.x_test"
   ]
  },
  {
   "cell_type": "code",
   "execution_count": null,
   "metadata": {},
   "outputs": [],
   "source": []
  },
  {
   "cell_type": "code",
   "execution_count": null,
   "metadata": {},
   "outputs": [],
   "source": []
  },
  {
   "cell_type": "markdown",
   "metadata": {},
   "source": [
    "Settings"
   ]
  },
  {
   "cell_type": "code",
   "execution_count": 5,
   "metadata": {
    "ExecuteTime": {
     "end_time": "2016-08-30T17:04:36.762787",
     "start_time": "2016-08-30T17:04:36.743275"
    }
   },
   "outputs": [],
   "source": [
    "TRAIN_BATCHSIZE = 512\n",
    "TEST_BATCHSIZE = 1\n",
    "TRAIN_NUM_EPOCHS = 5"
   ]
  },
  {
   "cell_type": "markdown",
   "metadata": {},
   "source": [
    "Train Main Network"
   ]
  },
  {
   "cell_type": "code",
   "execution_count": null,
   "metadata": {
    "ExecuteTime": {
     "end_time": "2016-08-30T17:06:01.258431",
     "start_time": "2016-08-30T17:04:36.830718"
    }
   },
   "outputs": [
    {
     "name": "stdout",
     "output_type": "stream",
     "text": [
      "1620860212.39\n",
      "1620860218.23\n",
      "1620860223.94\n",
      "1620860229.79\n"
     ]
    }
   ],
   "source": [
    "main_loss, main_acc, main_time = utils.train(branchyNet, x_train, y_train, main=True, batchsize=TRAIN_BATCHSIZE,\n",
    "                                             num_epoch=TRAIN_NUM_EPOCHS)"
   ]
  },
  {
   "cell_type": "markdown",
   "metadata": {},
   "source": [
    "Train BranchyNet"
   ]
  },
  {
   "cell_type": "code",
   "execution_count": null,
   "metadata": {
    "ExecuteTime": {
     "end_time": "2016-08-30T17:11:06.345265",
     "start_time": "2016-08-30T17:06:01.268848"
    },
    "scrolled": false
   },
   "outputs": [],
   "source": [
    "#TRAIN_NUM_EPOCHS = 100\n",
    "branch_loss, branch_acc, branch_time = utils.train(branchyNet, x_train, y_train, batchsize=TRAIN_BATCHSIZE,\n",
    "                                                   num_epoch=TRAIN_NUM_EPOCHS)\n",
    "\n",
    "#set network to inference mode\n",
    "branchyNet.testing()"
   ]
  },
  {
   "cell_type": "markdown",
   "metadata": {},
   "source": [
    "Visualizing Network Training"
   ]
  },
  {
   "cell_type": "code",
   "execution_count": null,
   "metadata": {
    "ExecuteTime": {
     "end_time": "2016-08-30T17:11:06.835335",
     "start_time": "2016-08-30T17:11:06.348432"
    }
   },
   "outputs": [],
   "source": [
    "visualize.plot_layers(main_loss, xlabel='Epochs', ylabel='Training Loss')\n",
    "visualize.plot_layers(main_acc, xlabel='Epochs', ylabel='Training Accuracy')"
   ]
  },
  {
   "cell_type": "code",
   "execution_count": null,
   "metadata": {
    "ExecuteTime": {
     "end_time": "2016-08-30T17:11:07.341112",
     "start_time": "2016-08-30T17:11:06.837397"
    }
   },
   "outputs": [],
   "source": [
    "visualize.plot_layers(zip(*branch_loss), xlabel='Epochs', ylabel='Training Loss')\n",
    "visualize.plot_layers(zip(*branch_acc), xlabel='Epochs', ylabel='Training Accuracy')"
   ]
  },
  {
   "cell_type": "markdown",
   "metadata": {},
   "source": [
    "Run test suite and visualize"
   ]
  },
  {
   "cell_type": "code",
   "execution_count": null,
   "metadata": {
    "ExecuteTime": {
     "end_time": "2016-08-30T17:12:25.444980",
     "start_time": "2016-08-30T17:11:24.248544"
    }
   },
   "outputs": [],
   "source": [
    "#set network to inference mode\n",
    "branchyNet.testing()\n",
    "branchyNet.verbose = False\n",
    "if cuda.available:\n",
    "    branchyNet.to_gpu()\n",
    "g_baseacc, g_basediff, _, _ = utils.test(branchyNet, x_test, y_test, main=True, batchsize=TEST_BATCHSIZE)\n",
    "g_basediff = (g_basediff / float(len(y_test))) * 1000.\n",
    "\n",
    "#branchyNet.to_cpu()\n",
    "c_baseacc, c_basediff, _, _ = utils.test(branchyNet, x_test, y_test, main=True, batchsize=TEST_BATCHSIZE)\n",
    "c_basediff = (c_basediff / float(len(y_test))) * 1000."
   ]
  },
  {
   "cell_type": "code",
   "execution_count": null,
   "metadata": {
    "ExecuteTime": {
     "end_time": "2016-08-30T17:46:39.620682",
     "start_time": "2016-08-30T17:46:39.589059"
    }
   },
   "outputs": [],
   "source": [
    "# Specify thresholds\n",
    "thresholds = [0.0001, 0.0005, 0.001, 0.005, 0.01, 0.025, 0.05, 0.075, 0.1, 0.25, 0.5, 0.75, 1., 2., 3., 5., 10.]\n",
    "# the best thresholds from brandynet.\n",
    "thresholds = [0.025]"
   ]
  },
  {
   "cell_type": "code",
   "execution_count": null,
   "metadata": {
    "ExecuteTime": {
     "end_time": "2016-08-30T17:33:15.836122",
     "start_time": "2016-08-30T17:21:55.266512"
    }
   },
   "outputs": [],
   "source": [
    "#GPU\n",
    "if cuda.available:\n",
    "    branchyNet.to_gpu()\n",
    "g_ts, g_accs, g_diffs, g_exits = utils.screen_branchy(branchyNet, x_test, y_test, thresholds,\n",
    "                                                    batchsize=TEST_BATCHSIZE, verbose=True)\n",
    "\n",
    "#convert to ms\n",
    "g_diffs *= 1000.\n"
   ]
  },
  {
   "cell_type": "code",
   "execution_count": null,
   "metadata": {
    "scrolled": true
   },
   "outputs": [],
   "source": [
    "import matplotlib as plt\n",
    "import numpy as np\n",
    "\n",
    "print(g_accs)\n",
    "print(g_diffs)\n",
    "print(g_ts)\n",
    "print(g_exits)\n",
    "print(g_baseacc)\n",
    "print(g_basediff)\n",
    "\n",
    "tmp = np.array(g_accs)\n",
    "#print(plt.rcParams.keys())"
   ]
  },
  {
   "cell_type": "code",
   "execution_count": 19,
   "metadata": {},
   "outputs": [
    {
     "data": {
      "image/png": "[encoded data removed]",
      "text/plain": [
       "<Figure size 324x252 with 1 Axes>"
      ]
     },
     "metadata": {
      "needs_background": "light"
     },
     "output_type": "display_data"
    }
   ],
   "source": [
    "visualize.plot_line_tradeoff(g_accs, g_diffs, g_ts, g_exits, g_baseacc, g_basediff, all_samples=False, inc_amt=-0.0001,\n",
    "                             our_label='BranchyLeNet', orig_label='LeNet', xlabel='Runtime (ms)', \n",
    "                             title='LeNet GPU', output_path='_figs/lenet_gpu.pdf')"
   ]
  },
  {
   "cell_type": "code",
   "execution_count": 20,
   "metadata": {
    "ExecuteTime": {
     "end_time": "2016-08-30T18:02:54.947789",
     "start_time": "2016-08-30T17:46:57.332119"
    }
   },
   "outputs": [],
   "source": [
    "#CPU\n",
    "branchyNet.to_cpu()\n",
    "c_ts, c_accs, c_diffs, c_exits  = utils.screen_branchy(branchyNet, x_test, y_test, thresholds,\n",
    "                                                       batchsize=TEST_BATCHSIZE, verbose=True)\n",
    "\n",
    "#convert to ms\n",
    "c_diffs *= 1000."
   ]
  },
  {
   "cell_type": "code",
   "execution_count": 21,
   "metadata": {
    "ExecuteTime": {
     "end_time": "2016-08-30T17:35:52.802997",
     "start_time": "2016-08-30T17:35:52.193698"
    }
   },
   "outputs": [
    {
     "data": {
      "image/png": "[encoded data removed]",
      "text/plain": [
       "<Figure size 324x252 with 1 Axes>"
      ]
     },
     "metadata": {
      "needs_background": "light"
     },
     "output_type": "display_data"
    }
   ],
   "source": [
    "visualize.plot_line_tradeoff(c_accs, c_diffs, c_ts, c_exits, c_baseacc, c_basediff, all_samples=False, inc_amt=-0.0001,\n",
    "                             our_label='BranchyLeNet', orig_label='LeNet', xlabel='Runtime (ms)',\n",
    "                             title='LeNet CPU', output_path='_figs/lenet_cpu.pdf')"
   ]
  },
  {
   "cell_type": "code",
   "execution_count": 22,
   "metadata": {
    "ExecuteTime": {
     "end_time": "2016-08-30T17:11:07.655674",
     "start_time": "2016-08-30T17:04:45.607Z"
    }
   },
   "outputs": [
    {
     "name": "stdout",
     "output_type": "stream",
     "text": [
      "CPU Results:\n",
      "        Network        Acc.(%)       Time(ms)           Gain      Thrshld.T        Exit(%)\n",
      "          LeNet         100.00           6.62              -              -              -\n",
      "        B-LeNet         100.00           5.17           1.28       {0.0001}   {23.0, 77.0}\n",
      "        B-LeNet         100.00           2.67           2.48       {0.0005}   {69.0, 31.0}\n",
      "        B-LeNet         100.00           1.42           4.67        {0.001}   {89.0, 11.0}\n",
      "        B-LeNet         100.00           0.61          10.82        {0.005}    {99.0, 1.0}\n",
      "        B-LeNet         100.00           0.47          14.17         {0.01}   {100.0, 0.0}\n",
      "        B-LeNet         100.00           0.52          12.75        {0.025}   {100.0, 0.0}\n",
      "        B-LeNet         100.00           0.52          12.71         {0.05}   {100.0, 0.0}\n",
      "        B-LeNet         100.00           0.40          16.42        {0.075}   {100.0, 0.0}\n",
      "        B-LeNet         100.00           0.40          16.66          {0.1}   {100.0, 0.0}\n",
      "        B-LeNet         100.00           0.40          16.76         {0.25}   {100.0, 0.0}\n",
      "        B-LeNet         100.00           0.40          16.69          {0.5}   {100.0, 0.0}\n",
      "        B-LeNet         100.00           0.40          16.64         {0.75}   {100.0, 0.0}\n",
      "        B-LeNet         100.00           0.39          16.78          {1.0}   {100.0, 0.0}\n",
      "        B-LeNet         100.00           0.39          16.81          {2.0}   {100.0, 0.0}\n",
      "        B-LeNet         100.00           0.40          16.75          {3.0}   {100.0, 0.0}\n",
      "        B-LeNet         100.00           0.39          16.88          {5.0}   {100.0, 0.0}\n",
      "        B-LeNet         100.00           0.40          16.41         {10.0}   {100.0, 0.0}\n",
      "\n",
      "\n",
      "\n",
      "GPU Results:\n",
      "        Network        Acc.(%)       Time(ms)           Gain      Thrshld.T        Exit(%)\n",
      "    LeNet-MNIST         100.00           7.76              -              -              -\n",
      "  B-LeNet-MNIST         100.00           5.17           1.50       {0.0001}   {23.0, 77.0}\n",
      "  B-LeNet-MNIST         100.00           2.67           2.91       {0.0005}   {69.0, 31.0}\n",
      "  B-LeNet-MNIST         100.00           1.42           5.47        {0.001}   {89.0, 11.0}\n",
      "  B-LeNet-MNIST         100.00           0.61          12.68        {0.005}    {99.0, 1.0}\n",
      "  B-LeNet-MNIST         100.00           0.47          16.59         {0.01}   {100.0, 0.0}\n",
      "  B-LeNet-MNIST         100.00           0.52          14.94        {0.025}   {100.0, 0.0}\n",
      "  B-LeNet-MNIST         100.00           0.52          14.88         {0.05}   {100.0, 0.0}\n",
      "  B-LeNet-MNIST         100.00           0.40          19.23        {0.075}   {100.0, 0.0}\n",
      "  B-LeNet-MNIST         100.00           0.40          19.52          {0.1}   {100.0, 0.0}\n",
      "  B-LeNet-MNIST         100.00           0.40          19.63         {0.25}   {100.0, 0.0}\n",
      "  B-LeNet-MNIST         100.00           0.40          19.55          {0.5}   {100.0, 0.0}\n",
      "  B-LeNet-MNIST         100.00           0.40          19.49         {0.75}   {100.0, 0.0}\n",
      "  B-LeNet-MNIST         100.00           0.39          19.65          {1.0}   {100.0, 0.0}\n",
      "  B-LeNet-MNIST         100.00           0.39          19.69          {2.0}   {100.0, 0.0}\n",
      "  B-LeNet-MNIST         100.00           0.40          19.62          {3.0}   {100.0, 0.0}\n",
      "  B-LeNet-MNIST         100.00           0.39          19.77          {5.0}   {100.0, 0.0}\n",
      "  B-LeNet-MNIST         100.00           0.40          19.22         {10.0}   {100.0, 0.0}\n"
     ]
    }
   ],
   "source": [
    "print 'CPU Results:'\n",
    "utils.branchy_table_results('LeNet', c_baseacc, c_basediff, c_accs, c_diffs, c_exits, c_ts)\n",
    "\n",
    "print '\\n\\n'\n",
    "\n",
    "print 'GPU Results:'\n",
    "utils.branchy_table_results('LeNet-MNIST', g_baseacc, g_basediff, g_accs, c_diffs, g_exits, g_ts)"
   ]
  },
  {
   "cell_type": "markdown",
   "metadata": {},
   "source": [
    "Save model/data"
   ]
  },
  {
   "cell_type": "code",
   "execution_count": 23,
   "metadata": {},
   "outputs": [],
   "source": [
    "import dill\n",
    "branchyNet.to_cpu()\n",
    "with open(\"_models/lenet_mnist.bn\", \"wb\") as f:\n",
    "    dill.dump(branchyNet, f)\n",
    "with open(\"_models/lenet_mnist_gpu_results.pkl\", \"wb\") as f:\n",
    "    dill.dump({'accs': g_accs, 'rt': g_diffs, 'exits': g_exits, 'ts': g_ts, 'baseacc': g_baseacc, 'basediff': g_basediff}, f)\n",
    "with open(\"_models/lenet_mnist_cpu_results.pkl\", \"wb\") as f:\n",
    "    dill.dump({'accs': c_accs, 'rt': c_diffs, 'exits': c_exits, 'ts': c_ts, 'baseacc': c_baseacc, 'basediff': c_basediff}, f)"
   ]
  },
  {
   "cell_type": "code",
   "execution_count": 24,
   "metadata": {},
   "outputs": [],
   "source": [
    "import dill\n",
    "with open(\"_models/lenet_mnist_gpu_results.pkl\", \"rb\") as f:\n",
    "    gpu_res = dill.load(f)\n",
    "with open(\"_models/lenet_mnist_cpu_results.pkl\", \"rb\") as f:\n",
    "    cpu_res = dill.load(f)"
   ]
  },
  {
   "cell_type": "code",
   "execution_count": null,
   "metadata": {},
   "outputs": [],
   "source": []
  }
 ],
 "metadata": {
  "anaconda-cloud": {},
  "kernelspec": {
   "display_name": "Python 2",
   "language": "python",
   "name": "python2"
  },
  "language_info": {
   "codemirror_mode": {
    "name": "ipython",
    "version": 2
   },
   "file_extension": ".py",
   "mimetype": "text/x-python",
   "name": "python",
   "nbconvert_exporter": "python",
   "pygments_lexer": "ipython2",
   "version": "2.7.17"
  }
 },
 "nbformat": 4,
 "nbformat_minor": 1
}
